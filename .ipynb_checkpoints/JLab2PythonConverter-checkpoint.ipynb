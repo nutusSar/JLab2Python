{
 "cells": [
  {
   "cell_type": "code",
   "execution_count": 1,
   "id": "1",
   "metadata": {},
   "outputs": [],
   "source": [
    "import re\n",
    "import math\n",
    "\n"
   ]
  },
  {
   "cell_type": "code",
   "execution_count": 2,
   "id": "2",
   "metadata": {},
   "outputs": [],
   "source": [
    "docs = [\"\"]\n",
    "\n"
   ]
  },
  {
   "cell_type": "code",
   "execution_count": 3,
   "id": "3",
   "metadata": {},
   "outputs": [],
   "source": [
    "CELLCOUNTER = 1\n",
    "\n",
    "def setCELLCOUNTER(n: int):\n",
    "    global CELLCOUNTER \n",
    "    CELLCOUNTER = n\n",
    "\n",
    "def getCELLCOUNTER() -> int:\n",
    "    global CELLCOUNTER\n",
    "    return(CELLCOUNTER)\n",
    "\n"
   ]
  },
  {
   "cell_type": "code",
   "execution_count": 4,
   "id": "4",
   "metadata": {},
   "outputs": [],
   "source": [
    "SOURCE = False\n",
    "\n",
    "def setSOURCE(b: bool):\n",
    "    global SOURCE \n",
    "    SOURCE = b\n",
    "\n",
    "def getSOURCE() -> bool:\n",
    "    global SOURCE\n",
    "    return(SOURCE)\n",
    "\n"
   ]
  },
  {
   "cell_type": "code",
   "execution_count": 5,
   "id": "5",
   "metadata": {},
   "outputs": [],
   "source": [
    "METADATA = False\n",
    "\n",
    "def setMETADATA(b: bool):\n",
    "    global METADATA\n",
    "    METADATA = b\n",
    "    \n",
    "def getMETADATA() -> bool:\n",
    "    global METADATA\n",
    "    return(METADATA)\n",
    "\n"
   ]
  },
  {
   "cell_type": "code",
   "execution_count": 6,
   "id": "6",
   "metadata": {},
   "outputs": [],
   "source": [
    "PATTERN = re.compile(\"\\\\\\\\+\")\n",
    "\n",
    "def getPATTERN():\n",
    "    global PATTERN\n",
    "    return(PATTERN)\n",
    "\n"
   ]
  },
  {
   "cell_type": "code",
   "execution_count": 7,
   "id": "7",
   "metadata": {},
   "outputs": [],
   "source": [
    "def line2py(line):\n",
    "    if getSOURCE():\n",
    "        if line == \"   ]\\n\":\n",
    "            setSOURCE(False)\n",
    "            return(\"\\n\")\n",
    "        line = line[line.index(\"\\\"\") +1 : line.rindex(\"\\\"\")]\n",
    "        if line[-2:] == \"\\\\n\":\n",
    "            line = line[:-2]\n",
    "        p = getPATTERN()\n",
    "        groups = [(group[0], group[1] -1, group[1] - group[0]) for group in [match.span() for match in p.finditer(line)]]\n",
    "        temp = 0\n",
    "        result = \"\"\n",
    "        for group in groups:\n",
    "            result += line[temp:group[0]] + \"\".join([\"\\\\\" for i in range(math.floor(group[2]) //2 )])\n",
    "            temp = group[1] + 1\n",
    "        if groups:\n",
    "            result+= line[groups[-1][1]+1:]\n",
    "            line = result\n",
    "        return(line + \"\\n\")\n",
    "    \n",
    "        \n",
    "    if line == \" \\\"cells\\\": [\\n\":\n",
    "        return(\"#cells\\n\")\n",
    "    if line == \"   \\\"source\\\": [\\n\":\n",
    "        setSOURCE(True)        \n",
    "        cellcounter = getCELLCOUNTER()\n",
    "        setCELLCOUNTER(cellcounter + 1)\n",
    "        return(f\"#CELL[{cellcounter}]\\n\")\n",
    "    if line == \" \\\"metadata\\\": {\\n\":\n",
    "        setMETADATA(True)\n",
    "        line = \"##[BELOW SECTION IS FOR Jupyter-Lab]\"\n",
    "    if getMETADATA():\n",
    "        return(\"##\" + line)\n",
    "    return(\"\")\n",
    "\n"
   ]
  },
  {
   "cell_type": "code",
   "execution_count": 8,
   "id": "8",
   "metadata": {},
   "outputs": [],
   "source": [
    "def ipynb2py(docs):\n",
    "    for doc in docs:\n",
    "        f = open(doc, \"r\")\n",
    "        lines = f.readlines()\n",
    "        #print(lines)\n",
    "        f = open(doc[:-5] + \"py\", \"w\")\n",
    "        setCELLCOUNTER(1)\n",
    "        for line in lines:\n",
    "            f.write(line2py(line))\n",
    "    setMETADATA(False)\n",
    "                \n",
    "\n"
   ]
  },
  {
   "cell_type": "code",
   "execution_count": 9,
   "id": "9",
   "metadata": {},
   "outputs": [],
   "source": [
    "if __name__== \"__main__\":\n",
    "    ipynb2py(docs)\n",
    "\n"
   ]
  }
 ],
 "metadata": {
  "kernelspec": {
   "display_name": "Python 3 (ipykernel)",
   "language": "python",
   "name": "python3"
  },
  "language_info": {
   "codemirror_mode": {
    "name": "ipython",
    "version": 3
   },
   "file_extension": ".py",
   "mimetype": "text/x-python",
   "name": "python",
   "nbconvert_exporter": "python",
   "pygments_lexer": "ipython3",
   "version": "3.11.2"
  }
 },
 "nbformat": 4,
 "nbformat_minor": 5
}
