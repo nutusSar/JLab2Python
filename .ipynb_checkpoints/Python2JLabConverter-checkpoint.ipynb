{
 "cells": [
  {
   "cell_type": "code",
   "execution_count": 1,
   "id": "114a4fe7-2260-4557-b889-73821ee94e2a",
   "metadata": {},
   "outputs": [],
   "source": [
    "docs = [\"\"]"
   ]
  },
  {
   "cell_type": "code",
   "execution_count": 2,
   "id": "88459fd1-5c86-4b4d-a30c-6fdc9d755685",
   "metadata": {},
   "outputs": [],
   "source": [
    "CELLCOUNTER = 1\n",
    "\n",
    "def getCELLCOUNTER() -> int:\n",
    "    global CELLCOUNTER\n",
    "    return(CELLCOUNTER)\n",
    "\n",
    "def setCELLCOUNTER(n: int):\n",
    "    global CELLCOUNTER\n",
    "    CELLCOUNTER = n"
   ]
  },
  {
   "cell_type": "code",
   "execution_count": 3,
   "id": "57745c06-4989-4d17-80f1-3633194ca7c4",
   "metadata": {},
   "outputs": [],
   "source": [
    "SOURCE = False\n",
    "\n",
    "def getSOURCE() -> bool:\n",
    "    global SOURCE\n",
    "    return(SOURCE)\n",
    "\n",
    "def setSOURCE(b: bool):\n",
    "    global SOURCE\n",
    "    SOURCE = b"
   ]
  },
  {
   "cell_type": "code",
   "execution_count": 4,
   "id": "f8f96002-e354-4e52-88ba-159fc79c94ac",
   "metadata": {},
   "outputs": [],
   "source": [
    "INSOURCE = False\n",
    "\n",
    "def getINSOURCE() -> bool:\n",
    "    global INSOURCE\n",
    "    return(INSOURCE)\n",
    "\n",
    "def setINSOURCE(b: bool):\n",
    "    global INSOURCE\n",
    "    INSOURCE = b"
   ]
  },
  {
   "cell_type": "code",
   "execution_count": 5,
   "id": "bf5d6ec6-a4f7-409c-b4bf-436619afe88d",
   "metadata": {},
   "outputs": [],
   "source": [
    "METADATA = False\n",
    "\n",
    "def getMETADATA() -> bool:\n",
    "    global METADATA\n",
    "    return(METADATA)\n",
    "\n",
    "def setMETADATA(b: bool):\n",
    "    global METADATA\n",
    "    METADATA = b"
   ]
  },
  {
   "cell_type": "code",
   "execution_count": 6,
   "id": "fb43cd35-2d15-46d2-a8a8-db82e9205bd6",
   "metadata": {},
   "outputs": [],
   "source": [
    "def line2ipynb(line):\n",
    "    if line == \"#cells\\n\":\n",
    "        line = \"{\\n \\\"cells\\\": [\" + \"\\n\"\n",
    "        return(line)\n",
    "    if line == f\"#CELL[{getCELLCOUNTER()}]\\n\":\n",
    "        setSOURCE(True)\n",
    "        setINSOURCE(False)\n",
    "        line =  \"  {\\n   \\\"cell_type\\\": \\\"code\\\",\\n   \\\"execution_count\\\": \" + str(getCELLCOUNTER()) + \",\\n   \\\"id\\\": \\\"\"+ str(getCELLCOUNTER()) + \"\\\",\\n   \\\"metadata\\\": {},\\n   \\\"outputs\\\": [],\\n   \\\"source\\\": [\\n\"\n",
    "        if getCELLCOUNTER() > 1:\n",
    "            line = \"\\n   ]\\n  },\\n\"  + line\n",
    "        setCELLCOUNTER(getCELLCOUNTER() + 1)\n",
    "        return(line)\n",
    "    if getMETADATA():\n",
    "        return(line[2:])\n",
    "    if line == \"####[BELOW SECTION IS FOR Jupyter-Lab]\\n\":\n",
    "        line = \"\\n   ]\\n  }\\n ],\\n\"\n",
    "        setSOURCE(False)\n",
    "        setINSOURCE(False)\n",
    "        setMETADATA(True)\n",
    "        return(line)\n",
    "    if getSOURCE():\n",
    "        line = line.replace(\"\\\\\", \"\\\\\\\\\")[:-1]\n",
    "        line = \"   \\\"\" + line.replace(\"\\\"\", \"\\\\\\\"\") + \"\\\\n\\\"\"\n",
    "        if getINSOURCE():\n",
    "            line = \",\\n\" + line\n",
    "            return(line)\n",
    "        setINSOURCE(True)\n",
    "        return(line)\n",
    "    return(\"\")"
   ]
  },
  {
   "cell_type": "code",
   "execution_count": 7,
   "id": "c80fee39-37ea-47fd-b656-43a0b60ac8fa",
   "metadata": {},
   "outputs": [],
   "source": [
    "def py2ipynb(docs):\n",
    "    for doc in docs:\n",
    "        f = open(doc, \"r\")\n",
    "        lines = f.readlines()\n",
    "        f = open(doc[:-2] + \"ipynb\", \"w\")\n",
    "        setCELLCOUNTER(1)\n",
    "        setINSOURCE(False)\n",
    "        setSOURCE(False)\n",
    "        setMETADATA(False)\n",
    "        for line in lines:\n",
    "            f.write(line2ipynb(line))\n",
    "        "
   ]
  },
  {
   "cell_type": "code",
   "execution_count": 8,
   "id": "267b06ed-20e5-4af0-a947-d14667ef2768",
   "metadata": {},
   "outputs": [],
   "source": [
    "if __name__ == \"__main__\":\n",
    "    py2ipynb(docs)"
   ]
  }
 ],
 "metadata": {
  "kernelspec": {
   "display_name": "Python 3 (ipykernel)",
   "language": "python",
   "name": "python3"
  },
  "language_info": {
   "codemirror_mode": {
    "name": "ipython",
    "version": 3
   },
   "file_extension": ".py",
   "mimetype": "text/x-python",
   "name": "python",
   "nbconvert_exporter": "python",
   "pygments_lexer": "ipython3",
   "version": "3.11.2"
  }
 },
 "nbformat": 4,
 "nbformat_minor": 5
}
